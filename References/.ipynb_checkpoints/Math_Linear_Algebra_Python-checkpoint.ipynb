{
 "cells": [
  {
   "cell_type": "markdown",
   "metadata": {},
   "source": [
    "# Linear Algebra with Python (numpy, spipy and sympy)\n",
    "This notebook contains two classes and their functions:</p>\n",
    "<p><b>OneMatrix</b>(<i>matrix</i>)</p>\n",
    "<b>TwoMatrix</b>(<i>matrix, matrix</i>)</p>"
   ]
  },
  {
   "cell_type": "code",
   "execution_count": 345,
   "metadata": {},
   "outputs": [],
   "source": [
    "import numpy as np\n",
    "import scipy.linalg as sp\n",
    "from scipy import *\n",
    "from sympy import *"
   ]
  },
  {
   "cell_type": "code",
   "execution_count": 333,
   "metadata": {
    "scrolled": true
   },
   "outputs": [
    {
     "name": "stdout",
     "output_type": "stream",
     "text": [
      "Here are 6 vectors to select from:\n",
      " ----------------------------------------\n",
      "[[4 2]] \n",
      "\n",
      "[[5 3 2]] \n",
      "\n",
      "[0. 0.] \n",
      "\n",
      "[0. 0. 0.] \n",
      "\n",
      "[1. 1.] \n",
      "\n",
      "[1. 1. 1.] \n",
      "\n",
      "Here are 10 matrices to select from:\n",
      " ----------------------------------------\n",
      "[[1 3]\n",
      " [3 2]] \n",
      "\n",
      "[[4 6 1]\n",
      " [0 1 2]\n",
      " [1 4 3]] \n",
      "\n",
      "[[3 2 1]\n",
      " [0 1 1]] \n",
      "\n",
      "[[4 1 2 0]\n",
      " [2 3 1 1]\n",
      " [1 2 3 0]] \n",
      "\n",
      "[[1. 0.]\n",
      " [0. 1.]] \n",
      "\n",
      "[[1. 0. 0.]\n",
      " [0. 1. 0.]\n",
      " [0. 0. 1.]] \n",
      "\n",
      "[[0. 0.]\n",
      " [0. 0.]] \n",
      "\n",
      "[[0. 0. 0.]\n",
      " [0. 0. 0.]\n",
      " [0. 0. 0.]] \n",
      "\n",
      "[[1. 1.]\n",
      " [1. 1.]] \n",
      "\n",
      "[[1. 1. 1.]\n",
      " [1. 1. 1.]\n",
      " [1. 1. 1.]] \n",
      "\n"
     ]
    }
   ],
   "source": [
    "'''Set up some vectors'''\n",
    "v_2, v_3 = np.matrix('4 2'), np.matrix('5 3 2') # 2x1, 3x1 vectors with small numbers\n",
    "v_zero2, v_zero3 = np.zeros(2), np.zeros(3) #2x1, 3x1 Zero vectors\n",
    "v_ones2, v_ones3 = np.ones(2), np.ones(3) # 2x1, 3x1 Ones vectors\n",
    "\n",
    "vectors = (v_2, v_3, v_zero2, v_zero3, v_ones2, v_ones3) # Gather the vectors into a tuple\n",
    "\n",
    "'''Set up some matrices'''\n",
    "C_2x2 = np.matrix('1 3; 3 2')\n",
    "C_3x3 = np.matrix('4 6 1; 0 1 2; 1 4 3')\n",
    "C_2x3 = np.matrix('3 2 1; 0 1 1')\n",
    "C_3x4 = np.matrix('4 1 2 0; 2 3 1 1; 1 2 3 0')\n",
    "C_I2x2, C_I3x3 = np.eye(2), np.eye(3) # Identity matrices\n",
    "C_zero2, C_zero3 = np.zeros((2,2)), np.zeros((3,3)) # Zeros matrices\n",
    "C_one2, C_one3 = np.ones((2,2)), np.ones((3,3)) # Ones matrices\n",
    "\n",
    "matrices = (C_2x2, C_3x3, C_2x3, C_3x4, C_I2x2, C_I3x3, C_zero2, C_zero3, C_one2, C_one3)\n",
    "\n",
    "def show_working_set(v,m):\n",
    "    print(f'Here are {len(v)} vectors to select from:\\n', '-'*40)\n",
    "    for vector in v:\n",
    "        print(vector, '\\n')\n",
    "        \n",
    "    print(f'Here are {len(m)} matrices to select from:\\n', '-'*40)\n",
    "    for matrix in m:\n",
    "        print(matrix, '\\n')\n",
    "        \n",
    "show_working_set(vectors, matrices)"
   ]
  },
  {
   "cell_type": "markdown",
   "metadata": {},
   "source": [
    "# <p>One Matrix:</p>  <i>o = OneMatrix(matrix)</i>"
   ]
  },
  {
   "cell_type": "code",
   "execution_count": 383,
   "metadata": {},
   "outputs": [],
   "source": [
    "class OneMatrix(object):\n",
    "    \n",
    "    def __init__(self, matrix):\n",
    "        self.size = matrix.shape\n",
    "        self.m = matrix\n",
    "        return self.report(info='Made a new matrix.')\n",
    "\n",
    "    def diag(self):\n",
    "        self.report(info='Diaganol vector of the matrix:')\n",
    "        return np.diag(self.m)\n",
    "\n",
    "    def rre_form(self):\n",
    "        self.report(info='The reduced row echelon form of the matrix is:')\n",
    "        M = Matrix(self.m)\n",
    "        return M.rref()\n",
    "    \n",
    "    def round_matrix(self):\n",
    "        self.report(info='Rounding values of matrix:')\n",
    "        return np.matrix.round(self.m)\n",
    "    \n",
    "    def power_of(self, power):\n",
    "        self.report(info=f'Matrix to the power of {power}')\n",
    "        try:\n",
    "            return np.linalg.matrix_power(self.m, power)\n",
    "        except:\n",
    "            return \"Couldn't do power calculation\"\n",
    "    \n",
    "    def transpose(self):\n",
    "        self.report(info='The tranpose of the matrix is:')\n",
    "        transpose = np.transpose(self.m)\n",
    "        print(transpose.shape)\n",
    "        return transpose\n",
    "    \n",
    "    def rank(self):\n",
    "        self.report(info='The rank of the matrix is:')\n",
    "        return np.linalg.matrix_rank(self.m)\n",
    "    \n",
    "    def inverse(self):\n",
    "        self.report(info='The inverse of the matrix is:')\n",
    "        try:\n",
    "            return np.linalg.inv(self.m)\n",
    "        except:\n",
    "            return 'This matrix can not have an inverse calculated.'\n",
    "\n",
    "    def pseudo_inverse(self):\n",
    "        self.report(info='The pseudo-inverse of the matrix is:')\n",
    "        try:\n",
    "            return np.linalg.pinv(self.m)\n",
    "        except:\n",
    "            return 'This matrix can not have a pseudo-inverse calculated.'\n",
    "        \n",
    "    def norm(self):\n",
    "        self.report(info='The norm of this matrix is:')\n",
    "        return np.linalg.norm(self.m)\n",
    "   \n",
    "    def trace(self):\n",
    "        self.report(info='The trace of this matrix is:')\n",
    "        return np.trace(self.m)\n",
    "    \n",
    "    def det(self):\n",
    "        self.report(info='The determinant of the matrix is:')\n",
    "        try:\n",
    "            return np.linalg.det(self.m)\n",
    "        except:\n",
    "            return 'Unable to find the determinant.'\n",
    "\n",
    "    def eig(self):\n",
    "        eigval, eigvec = np.linalg.eig(self.m)\n",
    "        self.report(info='Info eigendecomposition of the matrix is:')\n",
    "        print(f'Eigenvalues:\\n{eigval}\\nEigenvectors:\\n{eigvec}')\n",
    "        return eigval, eigvec\n",
    "    \n",
    "    def LU(self):\n",
    "        self.report(info='LU factorization of the matrix is:')\n",
    "        P, L, U = sp.lu(self.m)\n",
    "        print(f'P:\\n{P}\\nL:{L}\\nU:{U}')\n",
    "        return P, L, U\n",
    "        \n",
    "    def QR(self):\n",
    "        self.report(info='QR factorization of the matrix is:')\n",
    "        Q, R = np.linalg.qr(self.m)\n",
    "        print(f'Q:\\n{Q}\\nR:\\n{R}')\n",
    "        return Q, R\n",
    "    \n",
    "    def SVD(self):\n",
    "        self.report(info='Singular Value Decomposition (SVD) of the matrix is:')\n",
    "        U, S, Vt = np.linalg.svd(self.m)\n",
    "        print(f'U(Orthogonal basis for col):\\n{U}\\nS(Singular values):\\n{S}\\nVt(Orthogonal basis for row):\\n{Vt}')\n",
    "        return U, S, Vt\n",
    "    \n",
    "        \n",
    "    def report(self, info=None):\n",
    "        print(f'\\nOriginal matrix is:\\n{self.m}\\nWith a shape of {self.size}')\n",
    "        if info is not None:\n",
    "            print('\\n'+ info)\n",
    "        "
   ]
  },
  {
   "cell_type": "code",
   "execution_count": 401,
   "metadata": {},
   "outputs": [],
   "source": [
    "#Matrices that can be adjusted for any problems\n",
    "# Other dummy matrices = (C_2x2, C_3x3, C_2x3, C_3x4, C_I2x2, C_I3x3, C_zero2, C_zero3, C_one2, C_one3)\n",
    "# Other dummy vectors = (v_2, v_3, v_zero2, v_zero3, v_ones2, v_ones3)\n",
    "\n",
    "m2x1 = np.matrix('5; 6')\n",
    "m2x2 = np.matrix('1 4; 4 1')\n",
    "m2x2a = np.matrix('5 6; 7 8')\n",
    "m2x2b = np.matrix('4 3; 5 2')\n",
    "m3x1 = np.matrix('5;1;-1')\n",
    "m3x3 = np.matrix('2 1 -3; 2 -4 3; 4 -7 1')\n",
    "m3x3a = np.matrix('3 2 6; 4 2 6; 4 4 1')\n",
    "m3x3b = np.matrix('-2 2 -3; -4 1 -6; -1 -2 0')\n",
    "m3x3c = np.matrix('1 3 2; 0 5 2; 0 10 4')\n",
    "m2x3 = np.matrix('1 0 -1; 1 1 1')\n",
    "m3x4 = np.matrix('1 0 1 3; 2 3 4 7; -1 -3 -3 4')\n",
    "m4x4 = np.matrix('5 1 2 1; 2 1 4 3; 1 2 1 0; 1 2 2 1')"
   ]
  },
  {
   "cell_type": "code",
   "execution_count": 402,
   "metadata": {},
   "outputs": [
    {
     "name": "stdout",
     "output_type": "stream",
     "text": [
      "\n",
      "Original matrix is:\n",
      "[[ 1  0  1  3]\n",
      " [ 2  3  4  7]\n",
      " [-1 -3 -3  4]]\n",
      "With a shape of (3, 4)\n",
      "\n",
      "Made a new matrix.\n"
     ]
    }
   ],
   "source": [
    "# Instantiate the matrix\n",
    "o = OneMatrix(m3x4)"
   ]
  },
  {
   "cell_type": "code",
   "execution_count": 409,
   "metadata": {},
   "outputs": [
    {
     "name": "stdout",
     "output_type": "stream",
     "text": [
      "\n",
      "Original matrix is:\n",
      "[[ 1  0  1  3]\n",
      " [ 2  3  4  7]\n",
      " [-1 -3 -3  4]]\n",
      "With a shape of (3, 4)\n",
      "\n",
      "Singular Value Decomposition (SVD) of the matrix is:\n",
      "U(Orthogonal basis for col):\n",
      "[[-0.33830048  0.1158196   0.93388361]\n",
      " [-0.93094403 -0.18615522 -0.31414877]\n",
      " [-0.13746272  0.97567005 -0.17079796]]\n",
      "S(Singular values):\n",
      "[9.41009908 5.91571428 0.67406215]\n",
      "Vt(Orthogonal basis for row):\n",
      "[[-2.19203411e-01 -2.52966934e-01 -3.87848033e-01 -8.58796541e-01]\n",
      " [-2.08286072e-01 -5.89189344e-01 -6.01078969e-01  4.98173566e-01]\n",
      " [ 7.06736066e-01 -6.38001148e-01  2.81401968e-01 -1.19547480e-01]\n",
      " [-6.39602149e-01 -4.26401433e-01  6.39602149e-01  1.11022302e-16]]\n"
     ]
    },
    {
     "data": {
      "text/plain": [
       "(matrix([[-0.33830048,  0.1158196 ,  0.93388361],\n",
       "         [-0.93094403, -0.18615522, -0.31414877],\n",
       "         [-0.13746272,  0.97567005, -0.17079796]]),\n",
       " array([9.41009908, 5.91571428, 0.67406215]),\n",
       " matrix([[-2.19203411e-01, -2.52966934e-01, -3.87848033e-01,\n",
       "          -8.58796541e-01],\n",
       "         [-2.08286072e-01, -5.89189344e-01, -6.01078969e-01,\n",
       "           4.98173566e-01],\n",
       "         [ 7.06736066e-01, -6.38001148e-01,  2.81401968e-01,\n",
       "          -1.19547480e-01],\n",
       "         [-6.39602149e-01, -4.26401433e-01,  6.39602149e-01,\n",
       "           1.11022302e-16]]))"
      ]
     },
     "execution_count": 409,
     "metadata": {},
     "output_type": "execute_result"
    }
   ],
   "source": [
    "### Operation options for OneMatrix(matrix) ~\n",
    "\n",
    "# o.diag()\n",
    "# o.round_matrix()\n",
    "# o.transpose()\n",
    "# o.rank()\n",
    "# o.inverse()\n",
    "# o.rre_form()\n",
    "# o.pseduo_inverse()\n",
    "# o.power_of(power)\n",
    "# o.norm()\n",
    "# o.det()\n",
    "# o.eig()\n",
    "# o.LU()                   returns P, L, U\n",
    "# o.QR()                   returns Q, R\n",
    "# o.SVD()                  returns U, S, Vt\n",
    "# o.trace()\n",
    "\n",
    "\n",
    "#U, S, Vt= o.SVD()\n",
    "o.SVD()"
   ]
  },
  {
   "cell_type": "code",
   "execution_count": 400,
   "metadata": {},
   "outputs": [
    {
     "name": "stdout",
     "output_type": "stream",
     "text": [
      "\n",
      "Original matrix is:\n",
      "[[ 1  3  2 13]\n",
      " [ 4  4 -3  3]\n",
      " [ 5  1  2 13]]\n",
      "With a shape of (3, 4)\n",
      "\n",
      "The reduced row echelon form of the matrix is:\n"
     ]
    },
    {
     "data": {
      "text/plain": [
       "(Matrix([\n",
       " [1, 0, 0, 1],\n",
       " [0, 1, 0, 2],\n",
       " [0, 0, 1, 3]]), (0, 1, 2))"
      ]
     },
     "execution_count": 400,
     "metadata": {},
     "output_type": "execute_result"
    }
   ],
   "source": [
    "o.rre_form()"
   ]
  },
  {
   "cell_type": "markdown",
   "metadata": {},
   "source": [
    "# <p>Two Matrices:</p>  <i>t = TwoMatrix(matrix, matrix)</i>"
   ]
  },
  {
   "cell_type": "code",
   "execution_count": 410,
   "metadata": {},
   "outputs": [],
   "source": [
    "class TwoMatrix(object):\n",
    "    \n",
    "    def __init__(self, matrix1, matrix2):\n",
    "        self.size1 = matrix1.shape\n",
    "        self.size2 = matrix2.shape\n",
    "        self.m1 = matrix1\n",
    "        self.m2 = matrix2\n",
    "        return self.report(info='TwoMatrix object created.')\n",
    "\n",
    "    def multi(self):\n",
    "        self.report(info='Multiplying the two matrices.')\n",
    "        try:\n",
    "            return self.m1@self.m2\n",
    "        except:\n",
    "            return 'Cannot multiply these two matrices.'\n",
    "    \n",
    "    def dot(self):\n",
    "        self.report(info='The dot product of these two matrices:')\n",
    "        try:\n",
    "            return np.dot(self.m1, self.m2)\n",
    "        except:\n",
    "            return 'Cannot get the dot product of these two matrices.'\n",
    "        \n",
    "    def add(self):\n",
    "        self.report(info='Adding the two matrices')\n",
    "        try:\n",
    "            return self.m1 + self.m2\n",
    "        except:\n",
    "            return 'Cannot add these two matrices'\n",
    "    \n",
    "    def sub(self):\n",
    "        self.report(info='Subtracting the two matrices.')\n",
    "        try:\n",
    "            return self.m1 - self.m2\n",
    "        except:\n",
    "            return 'Cannot subtract these two matrices'\n",
    "        \n",
    "    def solve(self):\n",
    "        self.report(info='Solving for m1*x = m2')\n",
    "        try:\n",
    "            return np.linalg.solve(self.m1, self.m2)\n",
    "        except:\n",
    "            return 'Cannot solve for these two matrices.'\n",
    "        \n",
    "    def report(self, info=None):\n",
    "        print(f'\\nOriginal matrix 1 is:\\n{self.m1}\\nWith a shape of {self.size1}')\n",
    "        print(f'\\nOriginal matrix 2 is:\\n{self.m2}\\nWith a shape of {self.size2}')     \n",
    "        if info is not None:\n",
    "            print('\\n'+ info)"
   ]
  },
  {
   "cell_type": "code",
   "execution_count": 411,
   "metadata": {},
   "outputs": [
    {
     "name": "stdout",
     "output_type": "stream",
     "text": [
      "\n",
      "Original matrix 1 is:\n",
      "[[ 2  1 -3]\n",
      " [ 2 -4  3]\n",
      " [ 4 -7  1]]\n",
      "With a shape of (3, 3)\n",
      "\n",
      "Original matrix 2 is:\n",
      "[[-2  2 -3]\n",
      " [-4  1 -6]\n",
      " [-1 -2  0]]\n",
      "With a shape of (3, 3)\n",
      "\n",
      "TwoMatrix object created.\n"
     ]
    }
   ],
   "source": [
    "#Instantiate the TwoMatrix object\n",
    "t = TwoMatrix(m3x3, m3x3b)"
   ]
  },
  {
   "cell_type": "code",
   "execution_count": 412,
   "metadata": {},
   "outputs": [
    {
     "name": "stdout",
     "output_type": "stream",
     "text": [
      "\n",
      "Original matrix 1 is:\n",
      "[[ 2  1 -3]\n",
      " [ 2 -4  3]\n",
      " [ 4 -7  1]]\n",
      "With a shape of (3, 3)\n",
      "\n",
      "Original matrix 2 is:\n",
      "[[-2  2 -3]\n",
      " [-4  1 -6]\n",
      " [-1 -2  0]]\n",
      "With a shape of (3, 3)\n",
      "\n",
      "Adding the two matrices\n"
     ]
    },
    {
     "data": {
      "text/plain": [
       "matrix([[ 0,  3, -6],\n",
       "        [-2, -3, -3],\n",
       "        [ 3, -9,  1]])"
      ]
     },
     "execution_count": 412,
     "metadata": {},
     "output_type": "execute_result"
    }
   ],
   "source": [
    "### Operation options for TwoMatrix(matrix1, matrix2) ~\n",
    "\n",
    "# t.multi()\n",
    "# t.dot()\n",
    "# t.add()\n",
    "# t.sub()\n",
    "# t.solve()\n",
    "\n",
    "t.add()"
   ]
  },
  {
   "cell_type": "code",
   "execution_count": 413,
   "metadata": {},
   "outputs": [
    {
     "name": "stdout",
     "output_type": "stream",
     "text": [
      "\n",
      "Original matrix 1 is:\n",
      "[[ 2  1 -3]\n",
      " [ 2 -4  3]\n",
      " [ 4 -7  1]]\n",
      "With a shape of (3, 3)\n",
      "\n",
      "Original matrix 2 is:\n",
      "[[-2  2 -3]\n",
      " [-4  1 -6]\n",
      " [-1 -2  0]]\n",
      "With a shape of (3, 3)\n",
      "\n",
      "The dot product of these two matrices:\n"
     ]
    },
    {
     "data": {
      "text/plain": [
       "matrix([[ -5,  11, -12],\n",
       "        [  9,  -6,  18],\n",
       "        [ 19,  -1,  30]])"
      ]
     },
     "execution_count": 413,
     "metadata": {},
     "output_type": "execute_result"
    }
   ],
   "source": [
    "t.dot()"
   ]
  },
  {
   "cell_type": "code",
   "execution_count": 1,
   "metadata": {
    "scrolled": true
   },
   "outputs": [
    {
     "ename": "NameError",
     "evalue": "name 'o' is not defined",
     "output_type": "error",
     "traceback": [
      "\u001b[0;31m---------------------------------------------------------------------------\u001b[0m",
      "\u001b[0;31mNameError\u001b[0m                                 Traceback (most recent call last)",
      "\u001b[0;32m<ipython-input-1-b67ef74451e6>\u001b[0m in \u001b[0;36m<module>\u001b[0;34m\u001b[0m\n\u001b[0;32m----> 1\u001b[0;31m \u001b[0mo\u001b[0m\u001b[0;34m.\u001b[0m\u001b[0mm\u001b[0m\u001b[0;34m\u001b[0m\u001b[0m\n\u001b[0m",
      "\u001b[0;31mNameError\u001b[0m: name 'o' is not defined"
     ]
    }
   ],
   "source": [
    "o.m"
   ]
  },
  {
   "cell_type": "code",
   "execution_count": null,
   "metadata": {},
   "outputs": [],
   "source": []
  }
 ],
 "metadata": {
  "kernelspec": {
   "display_name": "Python 3",
   "language": "python",
   "name": "python3"
  },
  "language_info": {
   "codemirror_mode": {
    "name": "ipython",
    "version": 3
   },
   "file_extension": ".py",
   "mimetype": "text/x-python",
   "name": "python",
   "nbconvert_exporter": "python",
   "pygments_lexer": "ipython3",
   "version": "3.7.0"
  }
 },
 "nbformat": 4,
 "nbformat_minor": 2
}
