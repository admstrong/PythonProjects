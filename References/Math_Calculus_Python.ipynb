{
 "cells": [
  {
   "cell_type": "markdown",
   "metadata": {},
   "source": [
    "# Calculus with Python (sympy)"
   ]
  },
  {
   "cell_type": "code",
   "execution_count": 13,
   "metadata": {},
   "outputs": [],
   "source": [
    "from sympy import *\n",
    "import math #math.pi, math.sqrt, math.e"
   ]
  },
  {
   "cell_type": "code",
   "execution_count": 14,
   "metadata": {},
   "outputs": [],
   "source": [
    "x, y, z = symbols('x y z')\n",
    "init_printing(use_unicode=True)"
   ]
  },
  {
   "cell_type": "code",
   "execution_count": 15,
   "metadata": {},
   "outputs": [
    {
     "name": "stdout",
     "output_type": "stream",
     "text": [
      "Example derivation of x^2 is:  2*x\n",
      "Example derivation of x^4 is:  4*x**3\n",
      "Example derivation of 1/x^2 is:  -2/x**3\n",
      "Example derivations of sin(x) is cos(x)\n",
      "Example derivations of cos(x) is -sin(x)\n",
      "Example derivation of e^x is 1.0*2.71828182845905**x\n",
      "Example 1 times derivation of x^4 is:  4*x**3\n",
      "Example 1 times derivation of sin(x) is:  cos(x)\n",
      "Example 1 times derivation of cos(x) is:  -sin(x)\n",
      "Example 1 times derivation of tan(x) is:  tan(x)**2 + 1\n"
     ]
    }
   ],
   "source": [
    "# Getting the derivitive of a formula\n",
    "n = 1\n",
    "\n",
    "# Single derivitive\n",
    "print('Example derivation of x^2 is:  {}'.format(diff(x**2)))\n",
    "print('Example derivation of x^4 is:  {}'.format(diff(x**4)))\n",
    "print('Example derivation of 1/x^2 is:  {}'.format(diff(x**-2)))\n",
    "print('Example derivations of sin(x) is {}'.format(diff(sin(x))))\n",
    "print('Example derivations of cos(x) is {}'.format(diff(cos(x))))\n",
    "print('Example derivation of e^x is {}'.format(diff(math.e**x)))\n",
    "# Multiple derivitives\n",
    "print('Example {} times derivation of x^4 is:  {}'.format(n, diff(x**4,x,n)))\n",
    "print('Example {} times derivation of sin(x) is:  {}'.format(n, diff(sin(x),x,n)))\n",
    "print('Example {} times derivation of cos(x) is:  {}'.format(n, diff(cos(x),x,n)))\n",
    "print('Example {} times derivation of tan(x) is:  {}'.format(n, diff(tan(x),x,n)))"
   ]
  },
  {
   "cell_type": "code",
   "execution_count": 16,
   "metadata": {},
   "outputs": [
    {
     "name": "stdout",
     "output_type": "stream",
     "text": [
      "2*x*cos(x**2)\n"
     ]
    }
   ],
   "source": [
    "diff((x*(sin(x**2))))\n",
    "print(diff(sin(x**2)))"
   ]
  },
  {
   "cell_type": "code",
   "execution_count": 17,
   "metadata": {},
   "outputs": [
    {
     "name": "stdout",
     "output_type": "stream",
     "text": [
      "Example integration of x^2 is:  x**3/3\n",
      "Example integration of cos(x) is:  sin(x)\n",
      "Example integration of x(8-x) is -x**3/3 + 4*x**2\n"
     ]
    }
   ],
   "source": [
    "# Getting the integration of a formula\n",
    "n = 3\n",
    "\n",
    "# Integration\n",
    "print('Example integration of x^2 is:  {}'.format(integrate(x**2)))\n",
    "print('Example integration of cos(x) is:  {}'.format(integrate(cos(x))))\n",
    "print('Example integration of x(8-x) is {}'.format(integrate(x*(8-x))))"
   ]
  },
  {
   "cell_type": "code",
   "execution_count": null,
   "metadata": {},
   "outputs": [],
   "source": []
  }
 ],
 "metadata": {
  "kernelspec": {
   "display_name": "Python 3",
   "language": "python",
   "name": "python3"
  },
  "language_info": {
   "codemirror_mode": {
    "name": "ipython",
    "version": 3
   },
   "file_extension": ".py",
   "mimetype": "text/x-python",
   "name": "python",
   "nbconvert_exporter": "python",
   "pygments_lexer": "ipython3",
   "version": "3.7.0"
  }
 },
 "nbformat": 4,
 "nbformat_minor": 2
}
